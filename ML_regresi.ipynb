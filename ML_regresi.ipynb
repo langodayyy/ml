{
  "nbformat": 4,
  "nbformat_minor": 0,
  "metadata": {
    "colab": {
      "provenance": [],
      "authorship_tag": "ABX9TyNQ3F6yF5sXsUPNu4vZ0IAz",
      "include_colab_link": true
    },
    "kernelspec": {
      "name": "python3",
      "display_name": "Python 3"
    },
    "language_info": {
      "name": "python"
    }
  },
  "cells": [
    {
      "cell_type": "markdown",
      "metadata": {
        "id": "view-in-github",
        "colab_type": "text"
      },
      "source": [
        "<a href=\"https://colab.research.google.com/github/langodayyy/ml/blob/main/ML_regresi.ipynb\" target=\"_parent\"><img src=\"https://colab.research.google.com/assets/colab-badge.svg\" alt=\"Open In Colab\"/></a>"
      ]
    },
    {
      "cell_type": "markdown",
      "source": [
        "**Nama: Lucky kuriawan Langoday** <br>\n",
        "**Kelas: TI-3D** <br>\n",
        "**Absen: 13** <br>"
      ],
      "metadata": {
        "id": "S-DW4jL2YUHr"
      }
    },
    {
      "cell_type": "code",
      "execution_count": null,
      "metadata": {
        "id": "g9Fx593KYPat"
      },
      "outputs": [],
      "source": []
    }
  ]
}