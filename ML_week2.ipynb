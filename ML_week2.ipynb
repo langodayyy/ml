{
  "nbformat": 4,
  "nbformat_minor": 0,
  "metadata": {
    "colab": {
      "provenance": [],
      "authorship_tag": "ABX9TyPFSAPWHQSnHWYADv06spyH",
      "include_colab_link": true
    },
    "kernelspec": {
      "name": "python3",
      "display_name": "Python 3"
    },
    "language_info": {
      "name": "python"
    }
  },
  "cells": [
    {
      "cell_type": "markdown",
      "metadata": {
        "id": "view-in-github",
        "colab_type": "text"
      },
      "source": [
        "<a href=\"https://colab.research.google.com/github/langodayyy/ml/blob/main/ML_week2.ipynb\" target=\"_parent\"><img src=\"https://colab.research.google.com/assets/colab-badge.svg\" alt=\"Open In Colab\"/></a>"
      ]
    },
    {
      "cell_type": "markdown",
      "source": [
        "Nama  : Lucky Kurniawan Langoday <br>\n",
        "Kelas : TI-3D <br>\n",
        "Absen : 13 <br>\n",
        "NIM   : 2241720168"
      ],
      "metadata": {
        "id": "Ld90N5Qbqgq1"
      }
    },
    {
      "cell_type": "code",
      "execution_count": null,
      "metadata": {
        "id": "cUSm3VG4ezQQ",
        "colab": {
          "base_uri": "https://localhost:8080/"
        },
        "outputId": "fa2bdf14-ab97-4423-c223-4a5e9cade9dc"
      },
      "outputs": [
        {
          "output_type": "stream",
          "name": "stdout",
          "text": [
            "[0.0, 0.16666666666666666, 0.3333333333333333, 0.6666666666666666, 1.0]\n"
          ]
        }
      ],
      "source": [
        "def norm_data(data):\n",
        "  '''\n",
        "  melakukan normalisasi data\n",
        "  Parameters:\n",
        "    data (list) : data yang akan dinormalisasi\n",
        "  Returns:\n",
        "    data (list) : data yang sudah dinormalisasi\n",
        "  '''\n",
        "\n",
        "  data_max = max(data)\n",
        "  data_min = min(data)\n",
        "  data_len = len(data)\n",
        "\n",
        "  for i in range(0, data_len):\n",
        "    data[i] = (data[i] - data_min) / (data_max - data_min)\n",
        "\n",
        "  return data\n",
        "\n",
        "#contoh penggunaan\n",
        "data = [10, 11, 12, 14, 16]\n",
        "n_data = norm_data(data) #melakukan normalisasi\n",
        "print(n_data)\n"
      ]
    },
    {
      "cell_type": "code",
      "source": [
        "import numpy as np\n",
        "\n",
        "from sklearn.preprocessing import MinMaxScaler\n",
        "\n",
        "np.set_printoptions(precision=6)\n",
        "np.set_printoptions(suppress=True)\n",
        "\n",
        "#membentuk data\n",
        "data = [\n",
        "    [100, 0.0001],\n",
        "    [50, 0.05],\n",
        "    [30, 0.003]\n",
        "]\n",
        "\n",
        "#ubah e bentuk numpy n-dimensional array\n",
        "data = np.asarray(data)\n",
        "print('Data Asli')\n",
        "print(data)\n",
        "\n",
        "#mendefinisikan obyek minmaxscaler\n",
        "scaler = MinMaxScaler()\n",
        "#transformasikan data\n",
        "scaled = scaler.fit_transform(data)\n",
        "print('Data Setelah Di-Normalisasi')\n",
        "print(scaled)\n"
      ],
      "metadata": {
        "colab": {
          "base_uri": "https://localhost:8080/"
        },
        "id": "mnR7UWOiiznw",
        "outputId": "9293244a-d8ff-4cb8-e026-366fc07a8bdc"
      },
      "execution_count": 2,
      "outputs": [
        {
          "output_type": "stream",
          "name": "stdout",
          "text": [
            "Data Asli\n",
            "[[100.       0.0001]\n",
            " [ 50.       0.05  ]\n",
            " [ 30.       0.003 ]]\n",
            "Data Setelah Di-Normalisasi\n",
            "[[1.       0.      ]\n",
            " [0.285714 1.      ]\n",
            " [0.       0.058116]]\n"
          ]
        }
      ]
    },
    {
      "cell_type": "code",
      "source": [
        "import numpy as np\n",
        "from sklearn.preprocessing import StandardScaler\n",
        "\n",
        "np.set_printoptions(precision=6)\n",
        "np.set_printoptions(suppress=True)\n",
        "\n",
        "#membentuk data\n",
        "data = [\n",
        "    [100, 0.0001],\n",
        "    [50, 0.05],\n",
        "    [30, 0.003]\n",
        "]\n",
        "\n",
        "#ubah ke bentuk numpy n-dimensional array\n",
        "data = np.asarray(data)\n",
        "print('Data Asli')\n",
        "print(data)\n",
        "\n",
        "#mendefinisikan obyek standardscaler\n",
        "scaler = StandardScaler()\n",
        "#transformasikan data\n",
        "scaled = scaler.fit_transform(data)\n",
        "print('Data standarisasi')\n",
        "print(scaled)"
      ],
      "metadata": {
        "colab": {
          "base_uri": "https://localhost:8080/"
        },
        "id": "tTEyG82IkASS",
        "outputId": "c75e35ee-1489-454b-e874-a7402b4e903b"
      },
      "execution_count": 3,
      "outputs": [
        {
          "output_type": "stream",
          "name": "stdout",
          "text": [
            "Data Asli\n",
            "[[100.       0.0001]\n",
            " [ 50.       0.05  ]\n",
            " [ 30.       0.003 ]]\n",
            "Data standarisasi\n",
            "[[ 1.358732 -0.76956 ]\n",
            " [-0.339683  1.412317]\n",
            " [-1.019049 -0.642757]]\n"
          ]
        }
      ]
    },
    {
      "cell_type": "code",
      "source": [
        "from sklearn.preprocessing import OrdinalEncoder\n",
        "\n",
        "#inisialisasi obyek\n",
        "oe = OrdinalEncoder()\n",
        "\n",
        "#definisikan data ke dalam bentuk 2d\n",
        "data=[\n",
        "    ['Politeknik Negeri Malang'],\n",
        "    ['Politeknik Elektronika Negeri Surabaya'],\n",
        "    ['Politeknik Negeri Jakarta'],\n",
        "    ['Politeknik Negeri Semarang'],\n",
        "]\n",
        "\n",
        "#transformasi Ordinal Encoder\n",
        "transform_oe = oe.fit_transform(data)\n",
        "print('Data asli')\n",
        "print(data)\n",
        "print('Data setelah di transformasi Ordinal Encoder')\n",
        "print(transform_oe)"
      ],
      "metadata": {
        "colab": {
          "base_uri": "https://localhost:8080/"
        },
        "id": "IXGEUEWdkqKk",
        "outputId": "f4607afe-79f7-4961-c30e-efdd035536da"
      },
      "execution_count": 4,
      "outputs": [
        {
          "output_type": "stream",
          "name": "stdout",
          "text": [
            "Data asli\n",
            "[['Politeknik Negeri Malang'], ['Politeknik Elektronika Negeri Surabaya'], ['Politeknik Negeri Jakarta'], ['Politeknik Negeri Semarang']]\n",
            "Data setelah di transformasi Ordinal Encoder\n",
            "[[2.]\n",
            " [0.]\n",
            " [1.]\n",
            " [3.]]\n"
          ]
        }
      ]
    },
    {
      "cell_type": "code",
      "source": [
        "from sklearn.preprocessing import OneHotEncoder\n",
        "\n",
        "# inisialisasi obyek one hot encoder\n",
        "ohe = OneHotEncoder()\n",
        "\n",
        "#definisikan data ke dalam bentuk 2d\n",
        "data=[\n",
        "    ['Politeknik Negeri Malang'],\n",
        "    ['Politeknik Elektronika Negeri Surabaya'],\n",
        "    ['Politeknik Negeri Jakarta'],\n",
        "    ['Politeknik Negeri Semarang'],\n",
        "]\n",
        "\n",
        "#transformasi one hot encoder\n",
        "transform_ohe = ohe.fit_transform(data)\n",
        "\n",
        "print('Data asli')\n",
        "print(data)\n",
        "\n",
        "print('Data transformasi one hot encoding')\n",
        "print(transform_ohe.toarray())"
      ],
      "metadata": {
        "colab": {
          "base_uri": "https://localhost:8080/"
        },
        "id": "4I_xwQ-jlaaY",
        "outputId": "caf5a3d6-5f21-40ff-bfee-a83dfb54b229"
      },
      "execution_count": 10,
      "outputs": [
        {
          "output_type": "stream",
          "name": "stdout",
          "text": [
            "Data asli\n",
            "[['Politeknik Negeri Malang'], ['Politeknik Elektronika Negeri Surabaya'], ['Politeknik Negeri Jakarta'], ['Politeknik Negeri Semarang']]\n",
            "Data transformasi one hot encoding\n",
            "[[0. 0. 1. 0.]\n",
            " [1. 0. 0. 0.]\n",
            " [0. 1. 0. 0.]\n",
            " [0. 0. 0. 1.]]\n"
          ]
        }
      ]
    },
    {
      "cell_type": "code",
      "source": [
        "from sklearn.preprocessing import OneHotEncoder\n",
        "\n",
        "#inisial obyek ordinal encoder\n",
        "de = OneHotEncoder(drop='first')\n",
        "\n",
        "#definisikan data ke dalam bentuk 2d\n",
        "data=[\n",
        "    ['Politeknik Negeri Malang'],\n",
        "    ['Politeknik Elektronika Negeri Surabaya'],\n",
        "    ['Politeknik Negeri Jakarta'],\n",
        "    ['Politeknik Negeri Semarang'],\n",
        "]\n",
        "\n",
        "#transformasi ordinal encoder\n",
        "transform_de = de.fit_transform(data)\n",
        "\n",
        "print('Data asli')\n",
        "print(data)\n",
        "\n",
        "print('Data transformasi one-Hot Encoding')\n",
        "print(transform_de.toarray())"
      ],
      "metadata": {
        "colab": {
          "base_uri": "https://localhost:8080/"
        },
        "id": "QESnVnVJm_7f",
        "outputId": "b3dec958-e476-4d07-fd6b-4b67edf1bab3"
      },
      "execution_count": 11,
      "outputs": [
        {
          "output_type": "stream",
          "name": "stdout",
          "text": [
            "Data asli\n",
            "[['Politeknik Negeri Malang'], ['Politeknik Elektronika Negeri Surabaya'], ['Politeknik Negeri Jakarta'], ['Politeknik Negeri Semarang']]\n",
            "Data transformasi one-Hot Encoding\n",
            "[[0. 1. 0.]\n",
            " [0. 0. 0.]\n",
            " [1. 0. 0.]\n",
            " [0. 0. 1.]]\n"
          ]
        }
      ]
    },
    {
      "cell_type": "code",
      "source": [
        "from sklearn.feature_extraction.text import TfidfVectorizer\n",
        "corpus = [\n",
        "    'the house had a tiny little mouse',\n",
        "    'the cat saw the mouse',\n",
        "    'the mouse ran away from the house',\n",
        "    'the cat finally ate the mouse',\n",
        "    'the end of the mouse story'\n",
        "]\n",
        "\n",
        "#inisialisasi obyek TFidVectorizer\n",
        "vect = TfidfVectorizer(stop_words='english')\n",
        "\n",
        "#pembobotan TF-IDF\n",
        "resp = vect.fit_transform(corpus)\n",
        "\n",
        "#cetak hasil\n",
        "print(\"Hasil TF-IDF\")\n",
        "print(resp)\n",
        "\n",
        "#cetak token hasil stopword\n",
        "print(\"Token hasil stopword\")\n",
        "print(vect.get_feature_names_out())"
      ],
      "metadata": {
        "colab": {
          "base_uri": "https://localhost:8080/"
        },
        "id": "zQTL6nK8oK-q",
        "outputId": "c84a5349-8e29-4c14-e694-26d6eb8d72e6"
      },
      "execution_count": 20,
      "outputs": [
        {
          "output_type": "stream",
          "name": "stdout",
          "text": [
            "Hasil TF-IDF\n",
            "  (0, 7)\t0.2808823162882302\n",
            "  (0, 6)\t0.5894630806320427\n",
            "  (0, 11)\t0.5894630806320427\n",
            "  (0, 5)\t0.47557510189256375\n",
            "  (1, 9)\t0.7297183669435993\n",
            "  (1, 2)\t0.5887321837696324\n",
            "  (1, 7)\t0.3477147117091919\n",
            "  (2, 1)\t0.5894630806320427\n",
            "  (2, 8)\t0.5894630806320427\n",
            "  (2, 7)\t0.2808823162882302\n",
            "  (2, 5)\t0.47557510189256375\n",
            "  (3, 0)\t0.5894630806320427\n",
            "  (3, 4)\t0.5894630806320427\n",
            "  (3, 2)\t0.47557510189256375\n",
            "  (3, 7)\t0.2808823162882302\n",
            "  (4, 10)\t0.6700917930430479\n",
            "  (4, 3)\t0.6700917930430479\n",
            "  (4, 7)\t0.3193023297639811\n",
            "Token hasil stopword\n",
            "['ate' 'away' 'cat' 'end' 'finally' 'house' 'little' 'mouse' 'ran' 'saw'\n",
            " 'story' 'tiny']\n"
          ]
        }
      ]
    },
    {
      "cell_type": "code",
      "source": [
        "with open('corpus.txt', 'r') as f:\n",
        "    data = f.read()\n",
        "\n",
        "from sklearn.feature_extraction.text import TfidfVectorizer\n",
        "#inisialisasi obyek TFidVectorizer\n",
        "vect = TfidfVectorizer(stop_words='english')\n",
        "\n",
        "#pembobotan TF-IDF\n",
        "resp = vect.fit_transform(corpus)\n",
        "\n",
        "#cetak hasil\n",
        "print(\"Hasil TF-IDF\")\n",
        "print(resp)\n",
        "\n",
        "#cetak token hasil stopword\n",
        "print(\"Token hasil stopword\")\n",
        "print(vect.get_feature_names_out())"
      ],
      "metadata": {
        "colab": {
          "base_uri": "https://localhost:8080/"
        },
        "id": "aDbcl5Mrriku",
        "outputId": "910160c5-ee7a-4509-9b73-70e420bc0a86"
      },
      "execution_count": 22,
      "outputs": [
        {
          "output_type": "stream",
          "name": "stdout",
          "text": [
            "Hasil TF-IDF\n",
            "  (0, 7)\t0.2808823162882302\n",
            "  (0, 6)\t0.5894630806320427\n",
            "  (0, 11)\t0.5894630806320427\n",
            "  (0, 5)\t0.47557510189256375\n",
            "  (1, 9)\t0.7297183669435993\n",
            "  (1, 2)\t0.5887321837696324\n",
            "  (1, 7)\t0.3477147117091919\n",
            "  (2, 1)\t0.5894630806320427\n",
            "  (2, 8)\t0.5894630806320427\n",
            "  (2, 7)\t0.2808823162882302\n",
            "  (2, 5)\t0.47557510189256375\n",
            "  (3, 0)\t0.5894630806320427\n",
            "  (3, 4)\t0.5894630806320427\n",
            "  (3, 2)\t0.47557510189256375\n",
            "  (3, 7)\t0.2808823162882302\n",
            "  (4, 10)\t0.6700917930430479\n",
            "  (4, 3)\t0.6700917930430479\n",
            "  (4, 7)\t0.3193023297639811\n",
            "Token hasil stopword\n",
            "['ate' 'away' 'cat' 'end' 'finally' 'house' 'little' 'mouse' 'ran' 'saw'\n",
            " 'story' 'tiny']\n"
          ]
        }
      ]
    },
    {
      "cell_type": "code",
      "source": [
        "!jupyter nbconvert --to html /content/ML_week2.ipynb"
      ],
      "metadata": {
        "colab": {
          "base_uri": "https://localhost:8080/"
        },
        "id": "JNObDtCisTjC",
        "outputId": "00e4948c-2000-41b0-83c3-0e9149fbae31"
      },
      "execution_count": 24,
      "outputs": [
        {
          "output_type": "stream",
          "name": "stdout",
          "text": [
            "[NbConvertApp] Converting notebook /content/ML_week2.ipynb to html\n",
            "[NbConvertApp] Writing 599955 bytes to /content/ML_week2.html\n"
          ]
        }
      ]
    }
  ]
}